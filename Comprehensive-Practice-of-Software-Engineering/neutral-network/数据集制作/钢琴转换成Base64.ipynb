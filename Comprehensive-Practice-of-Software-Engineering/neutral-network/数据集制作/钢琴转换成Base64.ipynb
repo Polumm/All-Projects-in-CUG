{
 "cells": [
  {
   "cell_type": "code",
   "execution_count": 8,
   "metadata": {},
   "outputs": [],
   "source": [
    "import base64\n",
    "import os\n"
   ]
  },
  {
   "cell_type": "code",
   "execution_count": 26,
   "metadata": {},
   "outputs": [],
   "source": [
    "def convert2base64(dirname):\n",
    "    with open(dirname+'.csv','w') as inputfile:\n",
    "        dirname = dirname+'/'\n",
    "        for mp3file in os.listdir(dirname):\n",
    "            #print(mp3file)\n",
    "            f=open(dirname+ mp3file,'rb')\n",
    "            mp3=base64.b64encode(f.read()) \n",
    "            f.close()\n",
    "            inputfile.write('{0},{1}\\n\\n'.format(mp3file,mp3))\n",
    "        #print(mp3)"
   ]
  },
  {
   "cell_type": "code",
   "execution_count": 29,
   "metadata": {},
   "outputs": [],
   "source": [
    "dirname = 'piano_ogg'\n",
    "convert2base64(dirname)"
   ]
  },
  {
   "cell_type": "code",
   "execution_count": null,
   "metadata": {},
   "outputs": [],
   "source": []
  }
 ],
 "metadata": {
  "kernelspec": {
   "display_name": "Python 3",
   "language": "python",
   "name": "python3"
  },
  "language_info": {
   "codemirror_mode": {
    "name": "ipython",
    "version": 3
   },
   "file_extension": ".py",
   "mimetype": "text/x-python",
   "name": "python",
   "nbconvert_exporter": "python",
   "pygments_lexer": "ipython3",
   "version": "3.6.8"
  }
 },
 "nbformat": 4,
 "nbformat_minor": 4
}
