{
 "cells": [
  {
   "cell_type": "markdown",
   "metadata": {},
   "source": [
    "分母：1(房子)+3(大马路)\n",
    "\n",
    "分子：5(绿色植被) "
   ]
  },
  {
   "cell_type": "code",
   "execution_count": 3,
   "metadata": {},
   "outputs": [],
   "source": [
    "import os \n",
    "from PIL import Image\n",
    "from collections import Counter\n",
    "import numpy as np\n",
    "import math\n",
    "import cv2\n",
    "import matplotlib.pyplot as plt\n",
    "import json\n",
    "\n",
    "\n",
    "%matplotlib notebook"
   ]
  },
  {
   "cell_type": "code",
   "execution_count": 4,
   "metadata": {},
   "outputs": [],
   "source": [
    "'''\n",
    "Summary:\n",
    "    计算两者距离\n",
    "Parameter：\n",
    "    xy1 - 坐标1\n",
    "    xy2 - 坐标2\n",
    "'''\n",
    "def cal(xy1, xy2):\n",
    "    return math.pow((xy1[0] - xy2[0]),2) + math.pow(abs(xy1[1] - xy2[1]),2)\n",
    "\n",
    "'''\n",
    "Summary:\n",
    "    大津阈值分割\n",
    "Parameter：\n",
    "    img - 输入图像\n",
    "'''\n",
    "def OTSU(img):\n",
    "    # 类间方差g初始最小\n",
    "    g_raw = -1\n",
    "    # 要返回的阈值\n",
    "    T_return = 0\n",
    "    # 获得图像大小\n",
    "    M_N = img.shape[0]*img.shape[1]\n",
    "    bigest = img.max()\n",
    "    # 大津阈值算法\n",
    "    for T in range(bigest):\n",
    "        # 获取阈值大于T和小于T的两个列表\n",
    "        array1 = img[img<T]\n",
    "        array2 = img[img>T]\n",
    "        # 算出w1和w2\n",
    "        w1 = len(array1)/M_N\n",
    "        w2 = len(array2)/M_N\n",
    "        # 算出μ1和μ2\n",
    "        if len(array1) == 0:\n",
    "            mu1 = 0\n",
    "        else:\n",
    "            mu1 = sum(array1)/len(array1)\n",
    "        if len(array2) == 0:\n",
    "            mu2 = 0\n",
    "        else:\n",
    "            mu2 = sum(array2)/len(array2)\n",
    "        # 算出g\n",
    "        g=w1*w2*math.pow((mu1-mu2),2)\n",
    "        if g > g_raw:\n",
    "            g_raw = g\n",
    "            T_return = T\n",
    "    return T_return\n",
    "\n",
    "\n",
    "'''\n",
    "Summary:\n",
    "    绿化程度评分\n",
    "Parameter：\n",
    "    average_green - 平均绿视率\n",
    "'''\n",
    "def score(average_green):\n",
    "    if average_green < 0.05:\n",
    "        return 0\n",
    "    elif average_green < 0.15:\n",
    "        return 1\n",
    "    elif average_green < 0.25:\n",
    "        return 2\n",
    "    elif average_green < 0.35:\n",
    "        return 3\n",
    "    elif average_green < 0.5:\n",
    "        return 4\n",
    "    else:\n",
    "        return 5\n",
    "\n",
    "'''\n",
    "Summary:\n",
    "    得到绿视率字典\n",
    "Parameter：\n",
    "    gree_rate_count - 所有位置的绿视率\n",
    "Return:\n",
    "    求平均过后的绿视率\n",
    "'''\n",
    "def get_score(gree_rate_count):\n",
    "    return_dic = {}\n",
    "    for key, value in gree_rate_count.items():\n",
    "        #print(sum(value)/len(value))\n",
    "        average_green = sum(value)/len(value)\n",
    "        average_green = score(average_green)\n",
    "        return_dic[key] = average_green\n",
    "    return return_dic\n",
    "\n",
    "\n",
    "'''\n",
    "Summary:\n",
    "    生成在antv中显示的json文件\n",
    "Parameter：\n",
    "    lat_lng_dic - 经纬度+绿化打分\n",
    "Return:\n",
    "    json文件的字典\n",
    "'''\n",
    "def GetJsonFile(lat_lng_dic):\n",
    "    DicHead =  {\"type\":\"FeatureCollection\",\"features\":[]}\n",
    "    #DicHead[\"crs\"] = { \"type\": \"name\", \"properties\": { \"name\": \"urn:ogc:def:crs:OGC:1.3:CRS84\" } }\n",
    "    for (lat,lng),value in lat_lng_dic.items():\n",
    "        lat = float(lat)\n",
    "        lng = float(lng)\n",
    "        # 新建每个\n",
    "        DicEach = {}\n",
    "        DicEach[\"type\"] = 'Feature'\n",
    "        DicEach[\"properties\"] = {\"mag\": value}\n",
    "        #DicEach[\"properties\"] = {\"h0\":\"4\",\"h1\":\"2\",\"h2\":\"1\",\"h3\":\"0\",\"h4\":\"0\",\"h5\":\"0\",\"h6\":\"1\",\"h7\":\"1\",\"h8\":\"4\",\"h9\":\"4\",\"h10\":\"4\",\"h11\":\"4\",\"h12\":\"4\",\"h13\":\"2\",\"h14\":\"3\",\"h15\":\"4\",\"h16\":\"3\",\"h17\":\"3\",\"h18\":\"2\",\"h19\":\"2\",\"h20\":\"4\",\"h21\":\"5\",\"h22\":\"5\",\"h23\":\"6\"}\n",
    "\n",
    "        DicEach[\"geometry\"] = {\"type\":\"Point\",\"coordinates\":[lng,lat]}\n",
    "        DicEach[\"bbox\"] = [lng,lat,lng,lat]\n",
    "        # 放入头中\n",
    "        DicHead[\"features\"].append(DicEach)\n",
    "\n",
    "        \n",
    "    return DicHead\n",
    "\n"
   ]
  },
  {
   "cell_type": "markdown",
   "metadata": {},
   "source": [
    "### 显著区域计算\n",
    "通过高斯映射得到显著区域"
   ]
  },
  {
   "cell_type": "code",
   "execution_count": 5,
   "metadata": {},
   "outputs": [],
   "source": [
    "d=np.zeros((320,320))\n",
    "mid = (160,160)\n",
    "sigma = 100000\n",
    "for i in range(320):\n",
    "    for j in range(320):\n",
    "        d[i][j] = math.exp(-(cal(mid,(i,j)))/sigma)\n",
    "# 转换整数\n",
    "a = d*100\n",
    "a = a.astype(np.int8) #赋值操作后a的数据类型变化\n",
    "\n",
    "\n",
    "T = OTSU(a)\n",
    "b = a\n",
    "b[b<84] = 0\n",
    "b[b>=84] = 1\n",
    "Sp = b\n"
   ]
  },
  {
   "cell_type": "markdown",
   "metadata": {},
   "source": [
    "### 绿视率计算\n",
    "通过输入不同文件名，对绿视率进行计算"
   ]
  },
  {
   "cell_type": "code",
   "execution_count": 14,
   "metadata": {},
   "outputs": [
    {
     "name": "stdout",
     "output_type": "stream",
     "text": [
      "平均值 3.3363636363636364\n"
     ]
    }
   ],
   "source": [
    "filname = 'SanLin'\n",
    "filpath = './%s/'%filname\n",
    "\n",
    "\n",
    "gree_rate_count = {}\n",
    "for pic in os.listdir(filpath):\n",
    "        if pic[-4:] == '.jpg':\n",
    "            img = cv2.imread(filpath+pic,0)\n",
    "            img2 = img.reshape(1,-1)[0]\n",
    "            count = Counter(img2)\n",
    "            # 从原始图像提取到马路和建筑的面积\n",
    "            buildings = count[1]\n",
    "            road = count[3]\n",
    "            # 从特征区域提取到的植被的面积\n",
    "            img2 = img*Sp\n",
    "            img2 = img2.reshape(1,-1)[0]\n",
    "            count = Counter(img2)\n",
    "            tree = count[5]\n",
    "            # 计算绿视率\n",
    "            green_rate = tree/(road+buildings)\n",
    "            # 结果保存\n",
    "            _,lat,lng,_ = pic.split('_')\n",
    "            if (lat,lng) not in gree_rate_count:\n",
    "                gree_rate_count[(lat,lng)] = []\n",
    "            gree_rate_count[(lat,lng)].append(green_rate)\n",
    "#     except:\n",
    "#         print(pic)\n",
    "lat_lng_dic = get_score(gree_rate_count)\n",
    "jsonstr = GetJsonFile(lat_lng_dic)\n",
    "print(\"平均值\",sum(lat_lng_dic.values())/len(lat_lng_dic.values()))\n",
    "    # 文件写入\n",
    "filename=filpath+'scores.json'\n",
    "with open(filname+'.json','w') as file_obj:\n",
    "    json.dump(jsonstr,file_obj,indent=4)"
   ]
  },
  {
   "cell_type": "markdown",
   "metadata": {},
   "source": [
    "#### 各种做实验的空间\n",
    "不敢删，先留着吧"
   ]
  },
  {
   "cell_type": "code",
   "execution_count": 11,
   "metadata": {},
   "outputs": [
    {
     "data": {
      "text/plain": [
       "3.8761061946902653"
      ]
     },
     "execution_count": 11,
     "metadata": {},
     "output_type": "execute_result"
    }
   ],
   "source": [
    "sum(lat_lng_dic.values())/len(lat_lng_dic.values())"
   ]
  },
  {
   "cell_type": "code",
   "execution_count": 63,
   "metadata": {},
   "outputs": [],
   "source": [
    "img = cv2.imread(filpath+'_39.952705_116.449084_45.jpg',0)\n",
    "img2 = img.reshape(1,-1)[0]\n",
    "count = Counter(img2)\n",
    "            \n",
    "img2 = img*Sp\n",
    "img2 = img2.reshape(1,-1)[0]\n",
    "count2 = Counter(img2)\n",
    "            "
   ]
  },
  {
   "cell_type": "code",
   "execution_count": 64,
   "metadata": {},
   "outputs": [
    {
     "data": {
      "text/plain": [
       "Counter({1: 7722,\n",
       "         2: 1076,\n",
       "         0: 3031,\n",
       "         4: 2207,\n",
       "         5: 35108,\n",
       "         3: 52759,\n",
       "         6: 416,\n",
       "         7: 37,\n",
       "         8: 33,\n",
       "         9: 11})"
      ]
     },
     "execution_count": 64,
     "metadata": {},
     "output_type": "execute_result"
    }
   ],
   "source": [
    "count"
   ]
  },
  {
   "cell_type": "code",
   "execution_count": 65,
   "metadata": {},
   "outputs": [
    {
     "data": {
      "text/plain": [
       "Counter({0: 49559,\n",
       "         3: 24981,\n",
       "         2: 778,\n",
       "         1: 6746,\n",
       "         4: 1434,\n",
       "         5: 18679,\n",
       "         6: 203,\n",
       "         7: 10,\n",
       "         8: 10})"
      ]
     },
     "execution_count": 65,
     "metadata": {},
     "output_type": "execute_result"
    }
   ],
   "source": [
    "count2"
   ]
  },
  {
   "cell_type": "code",
   "execution_count": 28,
   "metadata": {},
   "outputs": [
    {
     "data": {
      "text/plain": [
       "array([[1, 1, 1, ..., 3, 3, 3]], dtype=uint8)"
      ]
     },
     "execution_count": 28,
     "metadata": {},
     "output_type": "execute_result"
    }
   ],
   "source": [
    "img.reshape(1,-1)"
   ]
  },
  {
   "cell_type": "code",
   "execution_count": 29,
   "metadata": {},
   "outputs": [
    {
     "data": {
      "text/plain": [
       "array([[1, 1, 1, ..., 6, 5, 5],\n",
       "       [3, 3, 3, ..., 5, 5, 5],\n",
       "       [3, 3, 3, ..., 5, 5, 5],\n",
       "       ...,\n",
       "       [3, 3, 3, ..., 3, 3, 3],\n",
       "       [3, 3, 3, ..., 3, 3, 3],\n",
       "       [3, 3, 3, ..., 3, 3, 3]], dtype=uint8)"
      ]
     },
     "execution_count": 29,
     "metadata": {},
     "output_type": "execute_result"
    }
   ],
   "source": [
    "img"
   ]
  }
 ],
 "metadata": {
  "kernelspec": {
   "display_name": "Python 3",
   "language": "python",
   "name": "python3"
  },
  "language_info": {
   "codemirror_mode": {
    "name": "ipython",
    "version": 3
   },
   "file_extension": ".py",
   "mimetype": "text/x-python",
   "name": "python",
   "nbconvert_exporter": "python",
   "pygments_lexer": "ipython3",
   "version": "3.6.8"
  }
 },
 "nbformat": 4,
 "nbformat_minor": 4
}
