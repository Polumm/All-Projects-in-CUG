{
 "cells": [
  {
   "cell_type": "code",
   "execution_count": 12,
   "metadata": {},
   "outputs": [],
   "source": [
    "import requests     # 下载东西用的request \n",
    "import matplotlib.pyplot as plt  # plt 用于显示图片\n",
    "import matplotlib.image as mpimg # mpimg 用于读取图片\n",
    "import numpy as np  # 表示数组、\n",
    "import json         # 解析json文件\n",
    "import os\n",
    "from collections import Counter"
   ]
  },
  {
   "cell_type": "code",
   "execution_count": 2,
   "metadata": {},
   "outputs": [],
   "source": [
    "\"\"\"\n",
    "参数：\n",
    "     filname  - 要保存的文件名\n",
    "     url      - 下载文件的链接 \n",
    "\"\"\"\n",
    "def DownloadFile(filname,url):\n",
    "    # 得到该url的数据\n",
    "    r = requests.get(url) \n",
    "    \n",
    "    # 将数据写入文件\n",
    "    with open(filname, \"wb\") as picfile:\n",
    "        picfile.write(r.content)"
   ]
  },
  {
   "cell_type": "code",
   "execution_count": 24,
   "metadata": {},
   "outputs": [],
   "source": [
    "\"\"\"\n",
    "参数：\n",
    "     size  - 街景图片尺寸\n",
    "     pano  - 街景ID\n",
    "     heading - 与正北方向角度，范围： [0,360]，默认0\n",
    "     pitch   - 与平视的夹角，范围[-90,20]，默认0\n",
    "     key     - 开发者秘钥\n",
    "返回值：\n",
    "     mapurl  - 地图的url\n",
    "\"\"\"\n",
    "def GetTencentMapUrl(pano,size='320x320',heading=0,pitch=0,key='2N5BZ-C6GKF-5TFJE-JLCIK-GL6HV-MUFBD'):\n",
    "    mapurl = 'https://apis.map.qq.com/ws/streetview/v1/image?'\n",
    "    mapurl = mapurl + 'size=' + str(size) + '&'\n",
    "    mapurl = mapurl + 'pano=' + str(pano) + '&'\n",
    "    mapurl = mapurl + 'heading=' + str(heading) + '&'\n",
    "    mapurl = mapurl + 'pitch=' + str(pitch) + '&'\n",
    "    mapurl = mapurl + 'key=' + str(key)\n",
    "    #print('url地址',mapurl)\n",
    "    return mapurl\n",
    "\n",
    "# 根据pano得到地理坐标\n",
    "\"\"\"\n",
    "参数：\n",
    "     id        - pano\n",
    "     raduis    - 街景的范围\n",
    "     key       - 开发者秘钥\n",
    "返回值：\n",
    "     pano      - 街景的pano\n",
    "\"\"\"\n",
    "def GetLatLng(id,raduis=100,key='2N5BZ-C6GKF-5TFJE-JLCIK-GL6HV-MUFBD'):\n",
    "    # 和上面一样的拼接url\n",
    "    panourl = 'https://apis.map.qq.com/ws/streetview/v1/getpano?'\n",
    "    panourl = panourl + 'id=' + str(id) + '&'\n",
    "    panourl = panourl + 'raduis=' + str(raduis) + '&'\n",
    "    panourl = panourl + 'key=' + str(key)\n",
    "    #print('url地址：',panourl)\n",
    "    \n",
    "   \n",
    "    #print(json_dic)\n",
    "    lat = ''\n",
    "    lng = ''\n",
    "    while lat == '' and lng == '':\n",
    "        try:\n",
    "            # 得到返回的json\n",
    "            r = requests.get(panourl) \n",
    "            panojson = r.text\n",
    "\n",
    "            # 解析json格式为字典类型\n",
    "            json_dic = json.loads(panojson)\n",
    "            lat = json_dic['detail']['location']['lat']\n",
    "            lng = json_dic['detail']['location']['lng']\n",
    "        except:\n",
    "           ''''''\n",
    "        \n",
    "    \n",
    "    return lat,lng"
   ]
  },
  {
   "cell_type": "code",
   "execution_count": 25,
   "metadata": {},
   "outputs": [],
   "source": [
    "# 爬取图片函数\n",
    "\"\"\"\n",
    "参数：\n",
    "     filname    - txt文件名\n",
    "\"\"\"\n",
    "def climb_images(filname):\n",
    "    # 读取txt，得到pano\n",
    "    panos = []\n",
    "    with open('fiddler_data/%s.txt'%filname,'r',errors='ignore') as f:\n",
    "        for line in f.readlines():\n",
    "            line = line.split('&')\n",
    "            for each in line:\n",
    "                if 'svid' in each:\n",
    "                    panos.append(each[5:])\n",
    "    # 统计有没有重复的pano\n",
    "    panos = list(Counter(panos).keys())\n",
    "    for pano in panos:\n",
    "        # 爬取，每个保存三个方向\n",
    "        heading_list = [315,0,45]\n",
    "        for heading in heading_list:\n",
    "            lat,lng = GetLatLng(pano)\n",
    "            url = GetTencentMapUrl(pano = pano,heading = heading)\n",
    "            filename = 'save_img/%s/%s_%s_%s.jpg'%(filname,str(lat),str(lng),str(heading))\n",
    "            DownloadFile(filename,url)"
   ]
  },
  {
   "cell_type": "code",
   "execution_count": 27,
   "metadata": {},
   "outputs": [],
   "source": [
    "climb_images('南锣鼓巷')"
   ]
  },
  {
   "cell_type": "markdown",
   "metadata": {},
   "source": [
    "#### 实验空间\n",
    "做测试用的空间，留着，不敢删"
   ]
  },
  {
   "cell_type": "code",
   "execution_count": 10,
   "metadata": {},
   "outputs": [],
   "source": [
    "panos = []\n",
    "with open('fiddler_data/中国地质大学北京.txt','r',errors='ignore') as f:\n",
    "    for line in f.readlines():\n",
    "        line = line.split('&')\n",
    "        for each in line:\n",
    "            if 'svid' in each:\n",
    "                panos.append(each[5:])"
   ]
  },
  {
   "cell_type": "code",
   "execution_count": null,
   "metadata": {},
   "outputs": [],
   "source": []
  },
  {
   "cell_type": "code",
   "execution_count": 4,
   "metadata": {},
   "outputs": [],
   "source": [
    "heading_list = [315,45,135,225]"
   ]
  },
  {
   "cell_type": "code",
   "execution_count": null,
   "metadata": {},
   "outputs": [],
   "source": [
    "for heading in heading_list:\n",
    "    lat,lng = GetLatLng(pano)\n",
    "    url = GetTencentMapUrl(pano = pano,heading = heading)\n",
    "    filename = 'StreetViews/%s/%s_%s_%s.jpg'%(SavePath,str(lat),str(lng),str(heading))\n",
    "    DownloadFile(filename,url)"
   ]
  }
 ],
 "metadata": {
  "kernelspec": {
   "display_name": "Python 3",
   "language": "python",
   "name": "python3"
  },
  "language_info": {
   "codemirror_mode": {
    "name": "ipython",
    "version": 3
   },
   "file_extension": ".py",
   "mimetype": "text/x-python",
   "name": "python",
   "nbconvert_exporter": "python",
   "pygments_lexer": "ipython3",
   "version": "3.6.8"
  }
 },
 "nbformat": 4,
 "nbformat_minor": 4
}
