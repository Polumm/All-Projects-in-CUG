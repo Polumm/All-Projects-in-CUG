{
 "cells": [
  {
   "cell_type": "code",
   "execution_count": 1,
   "metadata": {},
   "outputs": [
    {
     "name": "stderr",
     "output_type": "stream",
     "text": [
      "Using TensorFlow backend.\n"
     ]
    }
   ],
   "source": [
    "import LoadBatches\n",
    "from keras.models import load_model\n",
    "from Models import FCN32, FCN8, SegNet, UNet\n",
    "import glob\n",
    "import cv2\n",
    "import numpy as np\n",
    "import random\n",
    "import os"
   ]
  },
  {
   "cell_type": "code",
   "execution_count": 4,
   "metadata": {},
   "outputs": [],
   "source": [
    "key = \"unet\"\n",
    "\n",
    "method = {\n",
    "    \"fcn32\": FCN32.FCN32,\n",
    "    \"fcn8\": FCN8.FCN8,\n",
    "    \"segnet\": SegNet.SegNet,\n",
    "    'unet': UNet.UNet}\n",
    "\n",
    "m = method[key](11, 320, 320)  # 有自定义层时，不能直接加载模型\n",
    "m.load_weights(\"output/%s_model.h5\" % key)\n",
    "\n"
   ]
  },
  {
   "cell_type": "code",
   "execution_count": 14,
   "metadata": {},
   "outputs": [],
   "source": [
    "im = cv2.imread(r'.\\dataset1\\val\\0016E5_07959.png', 1)\n",
    "im.resize(320,320,3)"
   ]
  },
  {
   "cell_type": "code",
   "execution_count": 20,
   "metadata": {},
   "outputs": [],
   "source": [
    "pr = m.predict(np.expand_dims(LoadBatches.getImageArr(im), 0))"
   ]
  },
  {
   "cell_type": "code",
   "execution_count": 17,
   "metadata": {},
   "outputs": [
    {
     "data": {
      "text/plain": [
       "array([[[ 38,  37,  37],\n",
       "        [ 40,  38,  34],\n",
       "        [ 39,  36,  32],\n",
       "        ...,\n",
       "        [255, 255, 203],\n",
       "        [255, 255, 203],\n",
       "        [255, 255, 203]],\n",
       "\n",
       "       [[255, 255, 203],\n",
       "        [255, 255, 203],\n",
       "        [255, 255, 203],\n",
       "        ...,\n",
       "        [229, 231, 230],\n",
       "        [243, 247, 247],\n",
       "        [248, 254, 253]],\n",
       "\n",
       "       [[225, 228, 224],\n",
       "        [250, 251, 249],\n",
       "        [253, 254, 252],\n",
       "        ...,\n",
       "        [ 79,  53,  49],\n",
       "        [ 89,  70,  64],\n",
       "        [106, 110, 102]],\n",
       "\n",
       "       ...,\n",
       "\n",
       "       [[ 29,  19,  17],\n",
       "        [ 25,  17,  16],\n",
       "        [ 27,  23,  21],\n",
       "        ...,\n",
       "        [ 36,  32,  31],\n",
       "        [ 35,  31,  30],\n",
       "        [ 42,  38,  37]],\n",
       "\n",
       "       [[ 18,  16,  16],\n",
       "        [ 15,  13,  13],\n",
       "        [ 13,  11,  11],\n",
       "        ...,\n",
       "        [ 64,  53,  46],\n",
       "        [ 63,  52,  45],\n",
       "        [ 61,  53,  45]],\n",
       "\n",
       "       [[ 62,  54,  46],\n",
       "        [ 62,  54,  46],\n",
       "        [ 63,  52,  45],\n",
       "        ...,\n",
       "        [ 26,  22,  21],\n",
       "        [ 30,  27,  26],\n",
       "        [ 33,  30,  29]]], dtype=uint8)"
      ]
     },
     "execution_count": 17,
     "metadata": {},
     "output_type": "execute_result"
    }
   ],
   "source": [
    "im"
   ]
  },
  {
   "cell_type": "code",
   "execution_count": 21,
   "metadata": {},
   "outputs": [
    {
     "data": {
      "text/plain": [
       "array([[[0.03589668, 0.21230118, 0.02089423, ..., 0.02468682,\n",
       "         0.02089423, 0.02089423],\n",
       "        [0.04505086, 0.15303648, 0.01401616, ..., 0.01401616,\n",
       "         0.01401616, 0.01401616],\n",
       "        [0.0329018 , 0.13849033, 0.01444415, ..., 0.01444415,\n",
       "         0.01444415, 0.01444415],\n",
       "        ...,\n",
       "        [0.00329744, 0.01043028, 0.0032154 , ..., 0.00436597,\n",
       "         0.0032154 , 0.0032154 ],\n",
       "        [0.00321698, 0.01309258, 0.00321698, ..., 0.00475467,\n",
       "         0.00321698, 0.00321698],\n",
       "        [0.00955841, 0.04879943, 0.0087509 , ..., 0.01404939,\n",
       "         0.0087509 , 0.0087509 ]]], dtype=float32)"
      ]
     },
     "execution_count": 21,
     "metadata": {},
     "output_type": "execute_result"
    }
   ],
   "source": [
    "pr"
   ]
  },
  {
   "cell_type": "code",
   "execution_count": 23,
   "metadata": {},
   "outputs": [],
   "source": [
    "input_height = 320\n",
    "input_width = 320\n",
    "pr = pr.reshape((input_height, input_width, 11)).argmax(axis=2)"
   ]
  },
  {
   "cell_type": "code",
   "execution_count": 24,
   "metadata": {},
   "outputs": [
    {
     "data": {
      "text/plain": [
       "array([[5, 5, 5, ..., 5, 5, 5],\n",
       "       [5, 5, 5, ..., 5, 5, 5],\n",
       "       [5, 5, 5, ..., 5, 5, 5],\n",
       "       ...,\n",
       "       [3, 3, 3, ..., 3, 3, 3],\n",
       "       [3, 3, 3, ..., 3, 3, 3],\n",
       "       [3, 3, 3, ..., 3, 3, 3]], dtype=int64)"
      ]
     },
     "execution_count": 24,
     "metadata": {},
     "output_type": "execute_result"
    }
   ],
   "source": [
    "pr"
   ]
  },
  {
   "cell_type": "code",
   "execution_count": 25,
   "metadata": {},
   "outputs": [],
   "source": [
    "im2 = cv2.imread(r'.\\dataset1\\valannot\\0016E5_07959.png', 1)\n",
    "im2.resize(320,320,3)"
   ]
  },
  {
   "cell_type": "code",
   "execution_count": 29,
   "metadata": {},
   "outputs": [
    {
     "data": {
      "text/plain": [
       "(320, 320, 3)"
      ]
     },
     "execution_count": 29,
     "metadata": {},
     "output_type": "execute_result"
    }
   ],
   "source": [
    "im2.shape"
   ]
  },
  {
   "cell_type": "code",
   "execution_count": 30,
   "metadata": {},
   "outputs": [
    {
     "data": {
      "text/plain": [
       "(320, 320)"
      ]
     },
     "execution_count": 30,
     "metadata": {},
     "output_type": "execute_result"
    }
   ],
   "source": [
    "pr.shape"
   ]
  },
  {
   "cell_type": "code",
   "execution_count": null,
   "metadata": {},
   "outputs": [],
   "source": []
  }
 ],
 "metadata": {
  "kernelspec": {
   "display_name": "Python 3",
   "language": "python",
   "name": "python3"
  },
  "language_info": {
   "codemirror_mode": {
    "name": "ipython",
    "version": 3
   },
   "file_extension": ".py",
   "mimetype": "text/x-python",
   "name": "python",
   "nbconvert_exporter": "python",
   "pygments_lexer": "ipython3",
   "version": "3.6.8"
  }
 },
 "nbformat": 4,
 "nbformat_minor": 4
}
